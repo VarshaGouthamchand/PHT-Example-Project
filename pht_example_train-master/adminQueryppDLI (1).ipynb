{
 "cells": [
  {
   "cell_type": "markdown",
   "metadata": {},
   "source": [
    "<h2><center>PHT Query Details</center></h2>"
   ]
  },
  {
   "cell_type": "markdown",
   "metadata": {},
   "source": [
    "#### User Login and authentication"
   ]
  },
  {
   "cell_type": "code",
   "execution_count": null,
   "metadata": {},
   "outputs": [],
   "source": [
    "# Server settings\n",
    "url = \"http://35.157.139.38:5000/api\"\n",
    "api_path=\"\"\n",
    "\n",
    "# Account settings\n",
    "username = \"varsha\"                #username for this collaboration        \n",
    "password = \"password\"                          "
   ]
  },
  {
   "cell_type": "code",
   "execution_count": null,
   "metadata": {},
   "outputs": [],
   "source": [
    "import requests\n",
    "import json\n",
    "\n",
    "# Username / password\n",
    "json_data = {\n",
    "  \"username\": username,\n",
    "  \"password\": password\n",
    "}\n",
    "\n",
    "# HTTP request\n",
    "response = requests.post(\n",
    "  f\"{url}{api_path}/token/user\", \n",
    "  json=json_data\n",
    ")\n",
    "\n",
    "# Obtain access tokens which later can be used to \n",
    "# post tasks and obtain the results\n",
    "data = response.json()\n",
    "access_token = data[\"access_token\"]\n",
    "refresh_token = data[\"refresh_token\"]\n",
    "\n",
    " # HTTP headers for authorization\n",
    "headers = {'Authorization': 'Bearer ' + access_token,\n",
    "          \"Accept\": \"application/json\"}"
   ]
  },
  {
   "cell_type": "code",
   "execution_count": null,
   "metadata": {},
   "outputs": [],
   "source": [
    "headers"
   ]
  },
  {
   "cell_type": "markdown",
   "metadata": {},
   "source": [
    "### Query node, collaboration, user details"
   ]
  },
  {
   "cell_type": "code",
   "execution_count": null,
   "metadata": {},
   "outputs": [],
   "source": [
    "collaboration = requests.get(\n",
    "        url + \"/collaboration\",      \n",
    "        headers=headers)\n",
    "    \n",
    "print (json.dumps(collaboration.json(), indent=4, sort_keys=True))"
   ]
  },
  {
   "cell_type": "markdown",
   "metadata": {},
   "source": [
    "#### Node information"
   ]
  },
  {
   "cell_type": "code",
   "execution_count": null,
   "metadata": {},
   "outputs": [],
   "source": [
    "node = requests.get(\n",
    "        url + \"/collaboration/1/node\",      # example result id from the server ##58 and 64\n",
    "        headers=headers)\n",
    "    \n",
    "print (json.dumps(node.json(), indent=4, sort_keys=True))\n",
    "\n",
    "# When node is running, status field should show online "
   ]
  },
  {
   "cell_type": "code",
   "execution_count": null,
   "metadata": {},
   "outputs": [],
   "source": [
    "delete_task = requests.delete(\n",
    "        url + \"/task/1\",      \n",
    "        headers=headers)\n",
    "    \n",
    "print (json.dumps(delete_task.json(), indent=4, sort_keys=True))"
   ]
  },
  {
   "cell_type": "code",
   "execution_count": null,
   "metadata": {},
   "outputs": [],
   "source": [
    "node = requests.get(\n",
    "        url + \"/node/11\",      # example result id from the server ##58 and 64\n",
    "        headers=headers)\n",
    "    \n",
    "print (json.dumps(node.json(), indent=4, sort_keys=True))\n",
    "\n",
    "# When node is running, status field should show online"
   ]
  },
  {
   "cell_type": "markdown",
   "metadata": {},
   "source": [
    "#### Organization information"
   ]
  },
  {
   "cell_type": "code",
   "execution_count": null,
   "metadata": {},
   "outputs": [],
   "source": [
    "# HTTP headers for authorization\n",
    "headers = {'Authorization': 'Bearer ' + access_token}\n",
    "\n",
    "# task specification\n",
    "task_spec = {   \n",
    "  \"description\": \"Test Connection\",\n",
    "  \"image\": \"varshagouthamchand/sparql_dl_coxph\",\n",
    "  #\"image\": \"hello-world\"\n",
    "  \"network\": \"custom_network\",\n",
    "  \"input\": \"Some Input\",\n",
    "  \"name\": \"human readable\",\n",
    "  \"collaboration_id\":1\n",
    "#If otherwise not specified, task will be submitted to all nodes in the collaboration                \n",
    "}\n",
    "\n",
    "task = requests.post(\n",
    "  f\"{url}{api_path}/task\", \n",
    "  headers=headers,\n",
    "  json=task_spec\n",
    ")"
   ]
  },
  {
   "cell_type": "code",
   "execution_count": null,
   "metadata": {},
   "outputs": [],
   "source": [
    "import os\n",
    "\n",
    "result = requests.get(\n",
    "        url + \"/task/2/result\",      # example result id from the server ##58 and 64\n",
    "        headers=headers)\n",
    "\n",
    "node = requests.get(\n",
    "        url + \"/collaboration/1/node\",      # example result id from the server ##58 and 64\n",
    "        headers=headers)\n",
    "\n",
    "node_json = list(node.json())\n",
    "result_json = list(result.json())\n",
    "current_directory = os.getcwd()\n",
    "final_directory = os.path.join(current_directory, r'Output')\n",
    "\n",
    "if not os.path.exists(final_directory):\n",
    "   os.makedirs(final_directory)\n",
    "else:\n",
    "    for f in os.listdir(final_directory):\n",
    "        os.remove(os.path.join(final_directory, f))\n",
    "        \n",
    "for item in result_json:\n",
    "    if item['result'] != None:\n",
    "        with open(final_directory+\"\\\\\"+str(item['node_id'])+\".json\", 'w') as f:\n",
    "            f.write(item['result'])\n",
    "\n",
    "for f in os.listdir(final_directory):\n",
    "    for itemnode in node_json:\n",
    "        if str(os.path.splitext(f)[0]) == str(itemnode[\"id\"]):\n",
    "            os.rename(final_directory+\"\\\\\"+f, final_directory+\"\\\\\"+str(itemnode[\"name\"])+\".json\")\n",
    "  \n",
    "    #print(item['result'])\n",
    "#print (json.dumps(result.json(), indent=4, sort_keys=True))"
   ]
  },
  {
   "cell_type": "code",
   "execution_count": null,
   "metadata": {
    "scrolled": true
   },
   "outputs": [],
   "source": [
    "result = requests.get(\n",
    "        url + \"/result/569\",      # example result id from the server ##58 and 64\n",
    "        headers=headers)\n",
    "\n",
    "r = json.dumps(result.json(), indent=4, sort_keys=True)\n",
    "print(r)"
   ]
  },
  {
   "cell_type": "code",
   "execution_count": null,
   "metadata": {},
   "outputs": [],
   "source": [
    "import subprocess\n",
    "args1 = \"python pht_example_train-master\\pht_example_train-master\\dash_main.py\"\n",
    "command_run = subprocess.call(args1, shell=True)"
   ]
  },
  {
   "cell_type": "code",
   "execution_count": null,
   "metadata": {},
   "outputs": [],
   "source": []
  }
 ],
 "metadata": {
  "kernelspec": {
   "display_name": "Python 3",
   "language": "python",
   "name": "python3"
  },
  "language_info": {
   "codemirror_mode": {
    "name": "ipython",
    "version": 3
   },
   "file_extension": ".py",
   "mimetype": "text/x-python",
   "name": "python",
   "nbconvert_exporter": "python",
   "pygments_lexer": "ipython3",
   "version": "3.8.5"
  }
 },
 "nbformat": 4,
 "nbformat_minor": 2
}
